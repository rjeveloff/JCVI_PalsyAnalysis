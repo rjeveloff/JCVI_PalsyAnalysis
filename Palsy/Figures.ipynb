{
 "cells": [
  {
   "cell_type": "code",
   "execution_count": 3,
   "metadata": {},
   "outputs": [],
   "source": [
    "# Import necessary libraries\n",
    "import pandas as pd\n",
    "import numpy as np\n",
    "import matplotlib.pyplot as plt\n",
    "import seaborn as sns\n",
    "import statsmodels.formula.api as smf\n",
    "import statsmodels.api as sm\n",
    "import scipy.stats as sci"
   ]
  },
  {
   "cell_type": "code",
   "execution_count": 4,
   "metadata": {},
   "outputs": [],
   "source": [
    "# Import the csv containing Cytokine data\n",
    "data = pd.read_csv('data.csv')"
   ]
  },
  {
   "cell_type": "code",
   "execution_count": 5,
   "metadata": {},
   "outputs": [],
   "source": [
    "# Standardizing function\n",
    "def standardize_col(col):\n",
    "    arr_sorted =  sorted(col.values)\n",
    "\n",
    "    # calculate percentiles using scipy func percentileofscore on each array element\n",
    "    s = pd.Series(arr_sorted)\n",
    "    return s.apply(lambda x: sci.percentileofscore(arr_sorted, x))"
   ]
  },
  {
   "cell_type": "code",
   "execution_count": 6,
   "metadata": {},
   "outputs": [],
   "source": [
    "data_percentile = data.copy()"
   ]
  },
  {
   "cell_type": "code",
   "execution_count": 7,
   "metadata": {},
   "outputs": [],
   "source": [
    "for col in data_percentile.columns[8:]:\n",
    "    data_percentile[col] = standardize_col(data_percentile[col])"
   ]
  },
  {
   "cell_type": "code",
   "execution_count": 115,
   "metadata": {},
   "outputs": [
    {
     "data": {
      "text/plain": [
       "<matplotlib.axes._subplots.AxesSubplot at 0x1c1fc46898>"
      ]
     },
     "execution_count": 115,
     "metadata": {},
     "output_type": "execute_result"
    },
    {
     "data": {
      "image/png": "[encoded data removed]",
      "text/plain": [
       "<Figure size 432x288 with 1 Axes>"
      ]
     },
     "metadata": {
      "needs_background": "light"
     },
     "output_type": "display_data"
    }
   ],
   "source": [
    "sns.barplot(data=data,x='MOVEMENT ABILITY',y='QUALITY OF LIFE SCORE',hue='CONSTIPATION')"
   ]
  },
  {
   "cell_type": "code",
   "execution_count": 46,
   "metadata": {},
   "outputs": [
    {
     "data": {
      "text/plain": [
       "Index(['ID', 'GENDER', 'AGE', 'CEREBRAL PALSY TYPE', 'MOVEMENT ABILITY',\n",
       "       'MEDICATION', 'CONSTIPATION', 'BLEEDING', 'PERSONAL CARE',\n",
       "       'POSITIONING, TRANSFERRING, AND MOBILITY',\n",
       "       'COMMUNICATION AND SOCIAL INTERACTION', 'COMFORT AND EMOTIONS',\n",
       "       'HOSPITALIZATION AND CAREGIVER-REPORTED HEALTH',\n",
       "       'CAREGIVER-REPORTED QUALITY OF LIFE', 'QUALITY OF LIFE SCORE'],\n",
       "      dtype='object')"
      ]
     },
     "execution_count": 46,
     "metadata": {},
     "output_type": "execute_result"
    }
   ],
   "source": [
    "data_percentile.columns"
   ]
  },
  {
   "cell_type": "code",
   "execution_count": null,
   "metadata": {},
   "outputs": [],
   "source": []
  }
 ],
 "metadata": {
  "kernelspec": {
   "display_name": "Python 3",
   "language": "python",
   "name": "python3"
  },
  "language_info": {
   "codemirror_mode": {
    "name": "ipython",
    "version": 3
   },
   "file_extension": ".py",
   "mimetype": "text/x-python",
   "name": "python",
   "nbconvert_exporter": "python",
   "pygments_lexer": "ipython3",
   "version": "3.7.3"
  }
 },
 "nbformat": 4,
 "nbformat_minor": 2
}
