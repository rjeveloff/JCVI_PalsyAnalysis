{
 "cells": [
  {
   "cell_type": "code",
   "execution_count": 8,
   "metadata": {},
   "outputs": [],
   "source": [
    "# Import necessary libraries\n",
    "import pandas as pd\n",
    "import numpy as np\n",
    "import matplotlib.pyplot as plt\n",
    "import seaborn as sns\n",
    "import statsmodels.formula.api as smf\n",
    "import statsmodels.api as sm\n",
    "import scipy.stats as sci"
   ]
  },
  {
   "cell_type": "code",
   "execution_count": 2,
   "metadata": {},
   "outputs": [],
   "source": [
    "# Import the csv containing Cytokine data\n",
    "cytokine = pd.read_csv('Cytokine.csv')\n",
    "cytokine.rename(inplace=True,columns=\n",
    "                {\n",
    "                    'IL-6':'IL6',\n",
    "                    'IL-8':'IL8',\n",
    "                    'IL-10':'IL10',\n",
    "                    'IL-1B':'IL1B',\n",
    "                    'TNF-Alpha':'TNFAlpha',\n",
    "                    'Palsy Constipated QOLS':'QOLS'\n",
    "                })"
   ]
  },
  {
   "cell_type": "code",
   "execution_count": 3,
   "metadata": {},
   "outputs": [
    {
     "name": "stdout",
     "output_type": "stream",
     "text": [
      "Number of Subjects: 37\n",
      "Number of Constipated Subjects: 24\n",
      "Number of Non-Constipated Subjects: 13\n"
     ]
    }
   ],
   "source": [
    "# Subject breakdown\n",
    "print('Number of Subjects: {}\\nNumber of Constipated Subjects: {}\\nNumber of Non-Constipated Subjects: {}' .format(len(cytokine['Constipated']),*cytokine['Constipated'].value_counts()))"
   ]
  },
  {
   "cell_type": "code",
   "execution_count": 4,
   "metadata": {},
   "outputs": [],
   "source": [
    "cytokine_percentiles = cytokine.copy()"
   ]
  },
  {
   "cell_type": "code",
   "execution_count": 5,
   "metadata": {},
   "outputs": [],
   "source": [
    "percentiles = np.percentile(cytokine_percentiles['QOLS'],[10*i for i in range(0,10)])\n",
    "\n",
    "for index, row in cytokine_percentiles.iterrows():\n",
    "    for i in range(0,len(percentiles)):\n",
    "        if row['QOLS'] >= percentiles[i]:\n",
    "            cytokine_percentiles.loc[index,'QOLS'] = i*10"
   ]
  },
  {
   "cell_type": "code",
   "execution_count": 38,
   "metadata": {},
   "outputs": [],
   "source": [
    "est = {}\n",
    "const_est = {}\n",
    "nconst_est = {}\n",
    "estimates = [est,const_est,nconst_est]\n",
    "const = cytokine_percentiles.loc[cytokine_percentiles['CONSTIPATION'] == True]\n",
    "nconst = cytokine_percentiles.loc[cytokine_percentiles['CONSTIPATION'] == False]\n",
    "for cyt in cytokine_percentiles.columns[-6:-1]:\n",
    "    ind = list(cytokine_percentiles.columns[-6:-1].values).index(cyt)\n",
    "    #sns.lmplot(data=df_plt,x='QOLS',y=cyt,hue='CONSTIPATION',height=4,n_boot=5000,ci=25)\n",
    "    data = [\n",
    "            [cytokine_percentiles[cyt],cytokine_percentiles['QOLS']],\n",
    "            [const[cyt],const['QOLS']],\n",
    "            [nconst[cyt],nconst['QOLS']]\n",
    "           ]\n",
    "    for d,e in zip(data, estimates):\n",
    "        rho,pval = sci.spearmanr(*d)\n",
    "        e[cyt] = {'rho':rho, 'pval':pval}"
   ]
  },
  {
   "cell_type": "code",
   "execution_count": 75,
   "metadata": {},
   "outputs": [
    {
     "name": "stdout",
     "output_type": "stream",
     "text": [
      "        Spearman Correlation of Quality of Life        \n",
      "         as Affected by Inflammatory Cytokines:        \n",
      "           Split by Presence of Constipation           \n",
      "\n",
      "\n",
      "==========================IL1B=========================\n",
      "\n",
      "\tAll\t\tConstipated\tNon-Constipated\n",
      "\n",
      "rho\t0.487\t\t0.151\t\t0.221\n",
      "pval\t0.002\t\t0.480\t\t0.469\n",
      "\n",
      "\n",
      "========================TNFAlpha=======================\n",
      "\n",
      "\tAll\t\tConstipated\tNon-Constipated\n",
      "\n",
      "rho\t0.170\t\t0.128\t\t-0.106\n",
      "pval\t0.314\t\t0.550\t\t0.730\n",
      "\n",
      "\n",
      "==========================IL6==========================\n",
      "\n",
      "\tAll\t\tConstipated\tNon-Constipated\n",
      "\n",
      "rho\t0.052\t\t-0.160\t\t-0.091\n",
      "pval\t0.758\t\t0.454\t\t0.767\n",
      "\n",
      "\n",
      "==========================IL8==========================\n",
      "\n",
      "\tAll\t\tConstipated\tNon-Constipated\n",
      "\n",
      "rho\t0.208\t\t0.126\t\t-0.286\n",
      "pval\t0.217\t\t0.557\t\t0.344\n",
      "\n",
      "\n",
      "==========================IL10=========================\n",
      "\n",
      "\tAll\t\tConstipated\tNon-Constipated\n",
      "\n",
      "rho\t0.302\t\t0.174\t\t-0.205\n",
      "pval\t0.069\t\t0.416\t\t0.502\n",
      "\n",
      "\n"
     ]
    }
   ],
   "source": [
    "print(('Spearman Correlation of Quality of Life').center(55,' '))\n",
    "print(('as Affected by Inflammatory Cytokines:').center(55,' '))\n",
    "print(('Split by Presence of Constipation').center(55,' '))\n",
    "print('\\n')\n",
    "for cyt in est:\n",
    "    print((cyt).center(55,'='))\n",
    "    print('\\n\\tAll\\t\\tConstipated\\tNon-Constipated\\n')\n",
    "    for k in est[cyt]:\n",
    "        print('{}\\t{:.3f}\\t\\t{:.3f}\\t\\t{:.3f}'.format(k,est[cyt][k],const_est[cyt][k],nconst_est[cyt][k]))\n",
    "    print('\\n')"
   ]
  },
  {
   "cell_type": "code",
   "execution_count": null,
   "metadata": {},
   "outputs": [],
   "source": []
  }
 ],
 "metadata": {
  "kernelspec": {
   "display_name": "Python 3",
   "language": "python",
   "name": "python3"
  },
  "language_info": {
   "codemirror_mode": {
    "name": "ipython",
    "version": 3
   },
   "file_extension": ".py",
   "mimetype": "text/x-python",
   "name": "python",
   "nbconvert_exporter": "python",
   "pygments_lexer": "ipython3",
   "version": "3.7.3"
  }
 },
 "nbformat": 4,
 "nbformat_minor": 2
}
